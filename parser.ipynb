{
  "nbformat": 4,
  "nbformat_minor": 0,
  "metadata": {
    "kernelspec": {
      "display_name": "Python 3",
      "language": "python",
      "name": "python3"
    },
    "language_info": {
      "codemirror_mode": {
        "name": "ipython",
        "version": 3
      },
      "file_extension": ".py",
      "mimetype": "text/x-python",
      "name": "python",
      "nbconvert_exporter": "python",
      "pygments_lexer": "ipython3",
      "version": "3.7.4"
    },
    "colab": {
      "name": "parser.ipynb",
      "provenance": [],
      "collapsed_sections": [],
      "include_colab_link": true
    }
  },
  "cells": [
    {
      "cell_type": "markdown",
      "metadata": {
        "id": "view-in-github",
        "colab_type": "text"
      },
      "source": [
        "<a href=\"https://colab.research.google.com/github/Alexey1998-ml/parse/blob/master/parser.ipynb\" target=\"_parent\"><img src=\"https://colab.research.google.com/assets/colab-badge.svg\" alt=\"Open In Colab\"/></a>"
      ]
    },
    {
      "cell_type": "code",
      "metadata": {
        "id": "G7HAlA0SYECU",
        "colab_type": "code",
        "outputId": "0340258d-da33-49c9-97a0-38c8702fecba",
        "colab": {
          "base_uri": "https://localhost:8080/",
          "height": 221
        }
      },
      "source": [
        "!pip install pymorphy2"
      ],
      "execution_count": 1,
      "outputs": [
        {
          "output_type": "stream",
          "text": [
            "Collecting pymorphy2\n",
            "\u001b[?25l  Downloading https://files.pythonhosted.org/packages/a3/33/fff9675c68b5f6c63ec8c6e6ff57827dda28a1fa5b2c2d727dffff92dd47/pymorphy2-0.8-py2.py3-none-any.whl (46kB)\n",
            "\u001b[K     |████████████████████████████████| 51kB 1.7MB/s \n",
            "\u001b[?25hCollecting pymorphy2-dicts<3.0,>=2.4\n",
            "\u001b[?25l  Downloading https://files.pythonhosted.org/packages/02/51/2465fd4f72328ab50877b54777764d928da8cb15b74e2680fc1bd8cb3173/pymorphy2_dicts-2.4.393442.3710985-py2.py3-none-any.whl (7.1MB)\n",
            "\u001b[K     |████████████████████████████████| 7.1MB 7.5MB/s \n",
            "\u001b[?25hRequirement already satisfied: docopt>=0.6 in /usr/local/lib/python3.6/dist-packages (from pymorphy2) (0.6.2)\n",
            "Collecting dawg-python>=0.7\n",
            "  Downloading https://files.pythonhosted.org/packages/6a/84/ff1ce2071d4c650ec85745766c0047ccc3b5036f1d03559fd46bb38b5eeb/DAWG_Python-0.7.2-py2.py3-none-any.whl\n",
            "Installing collected packages: pymorphy2-dicts, dawg-python, pymorphy2\n",
            "Successfully installed dawg-python-0.7.2 pymorphy2-0.8 pymorphy2-dicts-2.4.393442.3710985\n"
          ],
          "name": "stdout"
        }
      ]
    },
    {
      "cell_type": "code",
      "metadata": {
        "id": "d5BpO7ogZVgG",
        "colab_type": "code",
        "outputId": "593fda25-9ec2-4a0c-e6a6-923f365a2917",
        "colab": {
          "base_uri": "https://localhost:8080/",
          "height": 100
        }
      },
      "source": [
        "import nltk\n",
        "nltk.download('stopwords')\n",
        "nltk.download('punkt')"
      ],
      "execution_count": 2,
      "outputs": [
        {
          "output_type": "stream",
          "text": [
            "[nltk_data] Downloading package stopwords to /root/nltk_data...\n",
            "[nltk_data]   Unzipping corpora/stopwords.zip.\n",
            "[nltk_data] Downloading package punkt to /root/nltk_data...\n",
            "[nltk_data]   Unzipping tokenizers/punkt.zip.\n"
          ],
          "name": "stdout"
        },
        {
          "output_type": "execute_result",
          "data": {
            "text/plain": [
              "True"
            ]
          },
          "metadata": {
            "tags": []
          },
          "execution_count": 2
        }
      ]
    },
    {
      "cell_type": "code",
      "metadata": {
        "id": "lnoSZoJQYMPl",
        "colab_type": "code",
        "colab": {}
      },
      "source": [
        "import requests\n",
        "from bs4 import BeautifulSoup\n",
        "import urllib\n",
        "import pickle\n",
        "import os\n",
        "\n",
        "import google.oauth2.credentials\n",
        "from googleapiclient.discovery import build\n",
        "from googleapiclient.errors import HttpError\n",
        "from google_auth_oauthlib.flow import InstalledAppFlow\n",
        "from google.auth.transport.requests import Request\n",
        "\n",
        "import googleapiclient.discovery\n",
        "\n",
        "from nltk import word_tokenize\n",
        "from nltk.corpus import stopwords\n",
        "\n",
        "import pymorphy2\n",
        "\n",
        "import pandas as pd\n",
        "import numpy as np\n",
        "\n",
        "\n",
        "from gensim.models import FastText\n",
        "\n",
        "\n",
        "from sklearn.manifold import TSNE"
      ],
      "execution_count": 0,
      "outputs": []
    },
    {
      "cell_type": "code",
      "metadata": {
        "id": "qS-sUnUPYECY",
        "colab_type": "code",
        "colab": {}
      },
      "source": [
        "CLIENT_SECRETS_FILE = \"client_secret.json\"\n",
        "SCOPES = ['https://www.googleapis.com/auth/youtube.force-ssl']\n",
        "API_SERVICE_NAME = 'youtube'\n",
        "API_VERSION = 'v3'\n",
        "os.environ['OAUTHLIB_INSECURE_TRANSPORT'] = '1'"
      ],
      "execution_count": 0,
      "outputs": []
    },
    {
      "cell_type": "code",
      "metadata": {
        "id": "MjPiaZFMYECb",
        "colab_type": "code",
        "colab": {}
      },
      "source": [
        "def get_authenticated_service():\n",
        "    credentials = None\n",
        "    if os.path.exists('token.pickle'):\n",
        "        with open('token.pickle', 'rb') as token:\n",
        "            credentials = pickle.load(token)\n",
        "    #  Check if the credentials are invalid or do not exist\n",
        "    if not credentials or not credentials.valid:\n",
        "        # Check if the credentials have expired\n",
        "        if credentials and credentials.expired and credentials.refresh_token:\n",
        "            credentials.refresh(Request())\n",
        "        else:\n",
        "            flow = InstalledAppFlow.from_client_secrets_file(\n",
        "                CLIENT_SECRETS_FILE, SCOPES)\n",
        "            credentials = flow.run_console()\n",
        " \n",
        "        # Save the credentials for the next run\n",
        "        with open('token.pickle', 'wb') as token:\n",
        "            pickle.dump(credentials, token)\n",
        " \n",
        "    return build(API_SERVICE_NAME, API_VERSION, credentials = credentials)\n",
        " "
      ],
      "execution_count": 0,
      "outputs": []
    },
    {
      "cell_type": "code",
      "metadata": {
        "id": "tKn5cpszYECf",
        "colab_type": "code",
        "outputId": "b66dfa17-a5c3-4698-f0e6-7087d2ec640a",
        "colab": {
          "base_uri": "https://localhost:8080/",
          "height": 70
        }
      },
      "source": [
        "service = get_authenticated_service()"
      ],
      "execution_count": 6,
      "outputs": [
        {
          "output_type": "stream",
          "text": [
            "Please visit this URL to authorize this application: https://accounts.google.com/o/oauth2/auth?response_type=code&client_id=499464782258-sk1tjt846grh4bartqo42538n81bkb8o.apps.googleusercontent.com&redirect_uri=urn%3Aietf%3Awg%3Aoauth%3A2.0%3Aoob&scope=https%3A%2F%2Fwww.googleapis.com%2Fauth%2Fyoutube.force-ssl&state=OhxNQrwjGMQnizxPOcyBZVRJ9M6AQj&prompt=consent&access_type=offline\n",
            "Enter the authorization code: 4/zAE2VbFjWLLnxfxhayfb3hfPL5JySWe1R4PxBxay3QMDiUaqcsTHmy8\n"
          ],
          "name": "stdout"
        }
      ]
    },
    {
      "cell_type": "code",
      "metadata": {
        "id": "UEgHauiyYECh",
        "colab_type": "code",
        "colab": {}
      },
      "source": [
        "def get_video_comments(service, **kwargs):\n",
        "    summary = []\n",
        "    results = service.commentThreads().list(**kwargs).execute()\n",
        "    \n",
        "    while results:\n",
        "        for item in results['items']:\n",
        "            comment = item['snippet']['topLevelComment']['snippet']['textDisplay']\n",
        "            num_like = item['snippet']['topLevelComment']['snippet']['likeCount']\n",
        "            num_reply = item['snippet']['totalReplyCount']\n",
        "            summary.append({\n",
        "                'comment' : comment,\n",
        "                'num_like' : num_like,\n",
        "                'num_reply' : num_reply\n",
        "            })\n",
        " \n",
        "        if 'nextPageToken' in results:\n",
        "            kwargs['pageToken'] = results['nextPageToken']\n",
        "            results = service.commentThreads().list(**kwargs).execute()\n",
        "        else:\n",
        "            break\n",
        " \n",
        "    return pd.DataFrame(summary)"
      ],
      "execution_count": 0,
      "outputs": []
    },
    {
      "cell_type": "code",
      "metadata": {
        "id": "xw3ggUW_YECk",
        "colab_type": "code",
        "colab": {}
      },
      "source": [
        "def check_word(word):\n",
        "    if word.isalpha() and word not in stop_words:\n",
        "        return morph.parse(word)[0].normal_form\n",
        "\n",
        "    \n",
        "def tokenize_sentence(sentence):\n",
        "    words = word_tokenize(sentence)\n",
        "    norm_words = []\n",
        "    for word in words:\n",
        "        cur_word = check_word(word)\n",
        "        if cur_word is not None:\n",
        "            norm_words.append(cur_word)\n",
        "    if len(norm_words) > 0:\n",
        "      return norm_words\n",
        "    return None\n",
        "\n",
        "\n",
        "def add_tokenize_columns(df, tokenized_col='tokenize_text', text_for_tokenize='comment', language='russian'):\n",
        "    global stop_words, morph\n",
        "    stop_words = set(stopwords.words(language))\n",
        "    morph = pymorphy2.MorphAnalyzer()\n",
        "    df[tokenized_col] = df[text_for_tokenize].apply(tokenize_sentence)\n",
        "    return df.dropna()"
      ],
      "execution_count": 0,
      "outputs": []
    },
    {
      "cell_type": "code",
      "metadata": {
        "id": "kiBUi4XNYECm",
        "colab_type": "code",
        "colab": {}
      },
      "source": [
        "summary = get_video_comments(service, part='snippet', videoId='kOvdx1sz--U', textFormat='plainText')"
      ],
      "execution_count": 0,
      "outputs": []
    },
    {
      "cell_type": "code",
      "metadata": {
        "id": "krFcv7DOYECy",
        "colab_type": "code",
        "colab": {}
      },
      "source": [
        "summary = add_tokenize_columns(summary)"
      ],
      "execution_count": 0,
      "outputs": []
    },
    {
      "cell_type": "code",
      "metadata": {
        "id": "qpeAHnbwa7Be",
        "colab_type": "code",
        "colab": {}
      },
      "source": [
        "def make_model(df, token_tolumn = 'tokenize_text', size = 128, window = 3, min_count = 1, epochs = 10):\n",
        "  model = FastText(size=size, window=window, min_count=min_count)\n",
        "  model.build_vocab(df[token_tolumn])\n",
        "  model.train(sentences=df[token_tolumn], total_examples=len(df[token_tolumn]), epochs=epochs) \n",
        "  return model"
      ],
      "execution_count": 0,
      "outputs": []
    },
    {
      "cell_type": "code",
      "metadata": {
        "id": "P7CRbgwNSgBB",
        "colab_type": "code",
        "colab": {}
      },
      "source": [
        "model = make_model(summary)"
      ],
      "execution_count": 0,
      "outputs": []
    },
    {
      "cell_type": "code",
      "metadata": {
        "id": "hoOPWCPzc_Vc",
        "colab_type": "code",
        "colab": {}
      },
      "source": [
        "def get_mean_embedding(string):\n",
        "  embedding = np.array(list(map(model.__getitem__, string))).mean(axis = 0)\n",
        "  if string:\n",
        "    return list(embedding)"
      ],
      "execution_count": 0,
      "outputs": []
    },
    {
      "cell_type": "code",
      "metadata": {
        "id": "TdrqEiCaPuzJ",
        "colab_type": "code",
        "colab": {
          "base_uri": "https://localhost:8080/",
          "height": 170
        },
        "outputId": "e8cfcf98-2f79-4f5c-e153-131fd3315b20"
      },
      "source": [
        "summary['mean_embedding'] = summary['tokenize_text'].apply(get_mean_embedding)"
      ],
      "execution_count": 255,
      "outputs": [
        {
          "output_type": "stream",
          "text": [
            "/usr/local/lib/python3.6/dist-packages/ipykernel_launcher.py:2: DeprecationWarning: Call to deprecated `__getitem__` (Method will be removed in 4.0.0, use self.wv.__getitem__() instead).\n",
            "  \n",
            "/usr/local/lib/python3.6/dist-packages/ipykernel_launcher.py:1: SettingWithCopyWarning: \n",
            "A value is trying to be set on a copy of a slice from a DataFrame.\n",
            "Try using .loc[row_indexer,col_indexer] = value instead\n",
            "\n",
            "See the caveats in the documentation: https://pandas.pydata.org/pandas-docs/stable/user_guide/indexing.html#returning-a-view-versus-a-copy\n",
            "  \"\"\"Entry point for launching an IPython kernel.\n"
          ],
          "name": "stderr"
        }
      ]
    },
    {
      "cell_type": "code",
      "metadata": {
        "id": "B4c_zGgDO6zp",
        "colab_type": "code",
        "colab": {}
      },
      "source": [
        ""
      ],
      "execution_count": 0,
      "outputs": []
    },
    {
      "cell_type": "code",
      "metadata": {
        "id": "5fN6jrnwO618",
        "colab_type": "code",
        "colab": {}
      },
      "source": [
        ""
      ],
      "execution_count": 0,
      "outputs": []
    },
    {
      "cell_type": "code",
      "metadata": {
        "id": "DrGcgdNa-qZj",
        "colab_type": "code",
        "colab": {}
      },
      "source": [
        "tsne = TSNE(n_components = 2)\n",
        "mean_embedding_transform = tsne.fit_transform(np.asarray(summary['mean_embedding'].to_list()))"
      ],
      "execution_count": 0,
      "outputs": []
    },
    {
      "cell_type": "code",
      "metadata": {
        "id": "6DBtdt6GDGOx",
        "colab_type": "code",
        "colab": {}
      },
      "source": [
        "import bokeh.models as bm, bokeh.plotting as pl\n",
        "from bokeh.io import output_notebook\n",
        "output_notebook()\n",
        "\n",
        "def draw_vectors(x, y, radius=10, alpha=0.25, color='blue',\n",
        "                 color_target = 'red',\n",
        "                 width=600, height=400, show=True, **kwargs):\n",
        "    if isinstance(color, str): color = [color] * len(x)\n",
        "    data_source = bm.ColumnDataSource({ 'x' : x, 'y' : y, 'color': color, **kwargs })\n",
        "    fig = pl.figure(active_scroll='wheel_zoom', width=width, height=height)\n",
        "\n",
        "    # fig = pl.figure(active_scroll='wheel_zoom', width=width, height=height)\n",
        "    fig.scatter('x', 'y', size=radius, color='color', alpha=alpha, source=data_source)\n",
        "\n",
        "    fig.add_tools(bm.HoverTool(tooltips=[(key, \"@\" + key) for key in kwargs.keys()]))\n",
        "    if show: pl.show(fig)\n",
        "    return fig"
      ],
      "execution_count": 0,
      "outputs": []
    },
    {
      "cell_type": "code",
      "metadata": {
        "id": "VQ58fwcNPWJk",
        "colab_type": "code",
        "colab": {
          "base_uri": "https://localhost:8080/",
          "height": 433
        },
        "outputId": "f97ad634-a796-4ab2-cbba-09db39892bad"
      },
      "source": [
        "draw_vectors(mean_embedding_transform[:, 0], mean_embedding_transform[:, 1])"
      ],
      "execution_count": 263,
      "outputs": [
        {
          "output_type": "display_data",
          "data": {
            "application/javascript": [
              "\n",
              "(function(root) {\n",
              "  function now() {\n",
              "    return new Date();\n",
              "  }\n",
              "\n",
              "  var force = true;\n",
              "\n",
              "  if (typeof root._bokeh_onload_callbacks === \"undefined\" || force === true) {\n",
              "    root._bokeh_onload_callbacks = [];\n",
              "    root._bokeh_is_loading = undefined;\n",
              "  }\n",
              "\n",
              "  var JS_MIME_TYPE = 'application/javascript';\n",
              "  var HTML_MIME_TYPE = 'text/html';\n",
              "  var EXEC_MIME_TYPE = 'application/vnd.bokehjs_exec.v0+json';\n",
              "  var CLASS_NAME = 'output_bokeh rendered_html';\n",
              "\n",
              "  /**\n",
              "   * Render data to the DOM node\n",
              "   */\n",
              "  function render(props, node) {\n",
              "    var script = document.createElement(\"script\");\n",
              "    node.appendChild(script);\n",
              "  }\n",
              "\n",
              "  /**\n",
              "   * Handle when an output is cleared or removed\n",
              "   */\n",
              "  function handleClearOutput(event, handle) {\n",
              "    var cell = handle.cell;\n",
              "\n",
              "    var id = cell.output_area._bokeh_element_id;\n",
              "    var server_id = cell.output_area._bokeh_server_id;\n",
              "    // Clean up Bokeh references\n",
              "    if (id != null && id in Bokeh.index) {\n",
              "      Bokeh.index[id].model.document.clear();\n",
              "      delete Bokeh.index[id];\n",
              "    }\n",
              "\n",
              "    if (server_id !== undefined) {\n",
              "      // Clean up Bokeh references\n",
              "      var cmd = \"from bokeh.io.state import curstate; print(curstate().uuid_to_server['\" + server_id + \"'].get_sessions()[0].document.roots[0]._id)\";\n",
              "      cell.notebook.kernel.execute(cmd, {\n",
              "        iopub: {\n",
              "          output: function(msg) {\n",
              "            var id = msg.content.text.trim();\n",
              "            if (id in Bokeh.index) {\n",
              "              Bokeh.index[id].model.document.clear();\n",
              "              delete Bokeh.index[id];\n",
              "            }\n",
              "          }\n",
              "        }\n",
              "      });\n",
              "      // Destroy server and session\n",
              "      var cmd = \"import bokeh.io.notebook as ion; ion.destroy_server('\" + server_id + \"')\";\n",
              "      cell.notebook.kernel.execute(cmd);\n",
              "    }\n",
              "  }\n",
              "\n",
              "  /**\n",
              "   * Handle when a new output is added\n",
              "   */\n",
              "  function handleAddOutput(event, handle) {\n",
              "    var output_area = handle.output_area;\n",
              "    var output = handle.output;\n",
              "\n",
              "    // limit handleAddOutput to display_data with EXEC_MIME_TYPE content only\n",
              "    if ((output.output_type != \"display_data\") || (!output.data.hasOwnProperty(EXEC_MIME_TYPE))) {\n",
              "      return\n",
              "    }\n",
              "\n",
              "    var toinsert = output_area.element.find(\".\" + CLASS_NAME.split(' ')[0]);\n",
              "\n",
              "    if (output.metadata[EXEC_MIME_TYPE][\"id\"] !== undefined) {\n",
              "      toinsert[toinsert.length - 1].firstChild.textContent = output.data[JS_MIME_TYPE];\n",
              "      // store reference to embed id on output_area\n",
              "      output_area._bokeh_element_id = output.metadata[EXEC_MIME_TYPE][\"id\"];\n",
              "    }\n",
              "    if (output.metadata[EXEC_MIME_TYPE][\"server_id\"] !== undefined) {\n",
              "      var bk_div = document.createElement(\"div\");\n",
              "      bk_div.innerHTML = output.data[HTML_MIME_TYPE];\n",
              "      var script_attrs = bk_div.children[0].attributes;\n",
              "      for (var i = 0; i < script_attrs.length; i++) {\n",
              "        toinsert[toinsert.length - 1].firstChild.setAttribute(script_attrs[i].name, script_attrs[i].value);\n",
              "      }\n",
              "      // store reference to server id on output_area\n",
              "      output_area._bokeh_server_id = output.metadata[EXEC_MIME_TYPE][\"server_id\"];\n",
              "    }\n",
              "  }\n",
              "\n",
              "  function register_renderer(events, OutputArea) {\n",
              "\n",
              "    function append_mime(data, metadata, element) {\n",
              "      // create a DOM node to render to\n",
              "      var toinsert = this.create_output_subarea(\n",
              "        metadata,\n",
              "        CLASS_NAME,\n",
              "        EXEC_MIME_TYPE\n",
              "      );\n",
              "      this.keyboard_manager.register_events(toinsert);\n",
              "      // Render to node\n",
              "      var props = {data: data, metadata: metadata[EXEC_MIME_TYPE]};\n",
              "      render(props, toinsert[toinsert.length - 1]);\n",
              "      element.append(toinsert);\n",
              "      return toinsert\n",
              "    }\n",
              "\n",
              "    /* Handle when an output is cleared or removed */\n",
              "    events.on('clear_output.CodeCell', handleClearOutput);\n",
              "    events.on('delete.Cell', handleClearOutput);\n",
              "\n",
              "    /* Handle when a new output is added */\n",
              "    events.on('output_added.OutputArea', handleAddOutput);\n",
              "\n",
              "    /**\n",
              "     * Register the mime type and append_mime function with output_area\n",
              "     */\n",
              "    OutputArea.prototype.register_mime_type(EXEC_MIME_TYPE, append_mime, {\n",
              "      /* Is output safe? */\n",
              "      safe: true,\n",
              "      /* Index of renderer in `output_area.display_order` */\n",
              "      index: 0\n",
              "    });\n",
              "  }\n",
              "\n",
              "  // register the mime type if in Jupyter Notebook environment and previously unregistered\n",
              "  if (root.Jupyter !== undefined) {\n",
              "    var events = require('base/js/events');\n",
              "    var OutputArea = require('notebook/js/outputarea').OutputArea;\n",
              "\n",
              "    if (OutputArea.prototype.mime_types().indexOf(EXEC_MIME_TYPE) == -1) {\n",
              "      register_renderer(events, OutputArea);\n",
              "    }\n",
              "  }\n",
              "\n",
              "  \n",
              "  if (typeof (root._bokeh_timeout) === \"undefined\" || force === true) {\n",
              "    root._bokeh_timeout = Date.now() + 5000;\n",
              "    root._bokeh_failed_load = false;\n",
              "  }\n",
              "\n",
              "  var NB_LOAD_WARNING = {'data': {'text/html':\n",
              "     \"<div style='background-color: #fdd'>\\n\"+\n",
              "     \"<p>\\n\"+\n",
              "     \"BokehJS does not appear to have successfully loaded. If loading BokehJS from CDN, this \\n\"+\n",
              "     \"may be due to a slow or bad network connection. Possible fixes:\\n\"+\n",
              "     \"</p>\\n\"+\n",
              "     \"<ul>\\n\"+\n",
              "     \"<li>re-rerun `output_notebook()` to attempt to load from CDN again, or</li>\\n\"+\n",
              "     \"<li>use INLINE resources instead, as so:</li>\\n\"+\n",
              "     \"</ul>\\n\"+\n",
              "     \"<code>\\n\"+\n",
              "     \"from bokeh.resources import INLINE\\n\"+\n",
              "     \"output_notebook(resources=INLINE)\\n\"+\n",
              "     \"</code>\\n\"+\n",
              "     \"</div>\"}};\n",
              "\n",
              "  function display_loaded() {\n",
              "    var el = document.getElementById(null);\n",
              "    if (el != null) {\n",
              "      el.textContent = \"BokehJS is loading...\";\n",
              "    }\n",
              "    if (root.Bokeh !== undefined) {\n",
              "      if (el != null) {\n",
              "        el.textContent = \"BokehJS \" + root.Bokeh.version + \" successfully loaded.\";\n",
              "      }\n",
              "    } else if (Date.now() < root._bokeh_timeout) {\n",
              "      setTimeout(display_loaded, 100)\n",
              "    }\n",
              "  }\n",
              "\n",
              "\n",
              "  function run_callbacks() {\n",
              "    try {\n",
              "      root._bokeh_onload_callbacks.forEach(function(callback) {\n",
              "        if (callback != null)\n",
              "          callback();\n",
              "      });\n",
              "    } finally {\n",
              "      delete root._bokeh_onload_callbacks\n",
              "    }\n",
              "    console.debug(\"Bokeh: all callbacks have finished\");\n",
              "  }\n",
              "\n",
              "  function load_libs(css_urls, js_urls, callback) {\n",
              "    if (css_urls == null) css_urls = [];\n",
              "    if (js_urls == null) js_urls = [];\n",
              "\n",
              "    root._bokeh_onload_callbacks.push(callback);\n",
              "    if (root._bokeh_is_loading > 0) {\n",
              "      console.debug(\"Bokeh: BokehJS is being loaded, scheduling callback at\", now());\n",
              "      return null;\n",
              "    }\n",
              "    if (js_urls == null || js_urls.length === 0) {\n",
              "      run_callbacks();\n",
              "      return null;\n",
              "    }\n",
              "    console.debug(\"Bokeh: BokehJS not loaded, scheduling load and callback at\", now());\n",
              "    root._bokeh_is_loading = css_urls.length + js_urls.length;\n",
              "\n",
              "    function on_load() {\n",
              "      root._bokeh_is_loading--;\n",
              "      if (root._bokeh_is_loading === 0) {\n",
              "        console.debug(\"Bokeh: all BokehJS libraries/stylesheets loaded\");\n",
              "        run_callbacks()\n",
              "      }\n",
              "    }\n",
              "\n",
              "    function on_error() {\n",
              "      console.error(\"failed to load \" + url);\n",
              "    }\n",
              "\n",
              "    for (var i = 0; i < css_urls.length; i++) {\n",
              "      var url = css_urls[i];\n",
              "      const element = document.createElement(\"link\");\n",
              "      element.onload = on_load;\n",
              "      element.onerror = on_error;\n",
              "      element.rel = \"stylesheet\";\n",
              "      element.type = \"text/css\";\n",
              "      element.href = url;\n",
              "      console.debug(\"Bokeh: injecting link tag for BokehJS stylesheet: \", url);\n",
              "      document.body.appendChild(element);\n",
              "    }\n",
              "\n",
              "    for (var i = 0; i < js_urls.length; i++) {\n",
              "      var url = js_urls[i];\n",
              "      var element = document.createElement('script');\n",
              "      element.onload = on_load;\n",
              "      element.onerror = on_error;\n",
              "      element.async = false;\n",
              "      element.src = url;\n",
              "      console.debug(\"Bokeh: injecting script tag for BokehJS library: \", url);\n",
              "      document.head.appendChild(element);\n",
              "    }\n",
              "  };\n",
              "\n",
              "  function inject_raw_css(css) {\n",
              "    const element = document.createElement(\"style\");\n",
              "    element.appendChild(document.createTextNode(css));\n",
              "    document.body.appendChild(element);\n",
              "  }\n",
              "\n",
              "  \n",
              "  var js_urls = [\"https://cdn.pydata.org/bokeh/release/bokeh-1.4.0.min.js\", \"https://cdn.pydata.org/bokeh/release/bokeh-widgets-1.4.0.min.js\", \"https://cdn.pydata.org/bokeh/release/bokeh-tables-1.4.0.min.js\", \"https://cdn.pydata.org/bokeh/release/bokeh-gl-1.4.0.min.js\"];\n",
              "  var css_urls = [];\n",
              "  \n",
              "\n",
              "  var inline_js = [\n",
              "    function(Bokeh) {\n",
              "      Bokeh.set_log_level(\"info\");\n",
              "    },\n",
              "    function(Bokeh) {\n",
              "    \n",
              "    \n",
              "    }\n",
              "  ];\n",
              "\n",
              "  function run_inline_js() {\n",
              "    \n",
              "    if (root.Bokeh !== undefined || force === true) {\n",
              "      \n",
              "    for (var i = 0; i < inline_js.length; i++) {\n",
              "      inline_js[i].call(root, root.Bokeh);\n",
              "    }\n",
              "    } else if (Date.now() < root._bokeh_timeout) {\n",
              "      setTimeout(run_inline_js, 100);\n",
              "    } else if (!root._bokeh_failed_load) {\n",
              "      console.log(\"Bokeh: BokehJS failed to load within specified timeout.\");\n",
              "      root._bokeh_failed_load = true;\n",
              "    } else if (force !== true) {\n",
              "      var cell = $(document.getElementById(null)).parents('.cell').data().cell;\n",
              "      cell.output_area.append_execute_result(NB_LOAD_WARNING)\n",
              "    }\n",
              "\n",
              "  }\n",
              "\n",
              "  if (root._bokeh_is_loading === 0) {\n",
              "    console.debug(\"Bokeh: BokehJS loaded, going straight to plotting\");\n",
              "    run_inline_js();\n",
              "  } else {\n",
              "    load_libs(css_urls, js_urls, function() {\n",
              "      console.debug(\"Bokeh: BokehJS plotting callback run at\", now());\n",
              "      run_inline_js();\n",
              "    });\n",
              "  }\n",
              "}(window));"
            ],
            "application/vnd.bokehjs_load.v0+json": "\n(function(root) {\n  function now() {\n    return new Date();\n  }\n\n  var force = true;\n\n  if (typeof root._bokeh_onload_callbacks === \"undefined\" || force === true) {\n    root._bokeh_onload_callbacks = [];\n    root._bokeh_is_loading = undefined;\n  }\n\n  \n\n  \n  if (typeof (root._bokeh_timeout) === \"undefined\" || force === true) {\n    root._bokeh_timeout = Date.now() + 5000;\n    root._bokeh_failed_load = false;\n  }\n\n  var NB_LOAD_WARNING = {'data': {'text/html':\n     \"<div style='background-color: #fdd'>\\n\"+\n     \"<p>\\n\"+\n     \"BokehJS does not appear to have successfully loaded. If loading BokehJS from CDN, this \\n\"+\n     \"may be due to a slow or bad network connection. Possible fixes:\\n\"+\n     \"</p>\\n\"+\n     \"<ul>\\n\"+\n     \"<li>re-rerun `output_notebook()` to attempt to load from CDN again, or</li>\\n\"+\n     \"<li>use INLINE resources instead, as so:</li>\\n\"+\n     \"</ul>\\n\"+\n     \"<code>\\n\"+\n     \"from bokeh.resources import INLINE\\n\"+\n     \"output_notebook(resources=INLINE)\\n\"+\n     \"</code>\\n\"+\n     \"</div>\"}};\n\n  function display_loaded() {\n    var el = document.getElementById(null);\n    if (el != null) {\n      el.textContent = \"BokehJS is loading...\";\n    }\n    if (root.Bokeh !== undefined) {\n      if (el != null) {\n        el.textContent = \"BokehJS \" + root.Bokeh.version + \" successfully loaded.\";\n      }\n    } else if (Date.now() < root._bokeh_timeout) {\n      setTimeout(display_loaded, 100)\n    }\n  }\n\n\n  function run_callbacks() {\n    try {\n      root._bokeh_onload_callbacks.forEach(function(callback) {\n        if (callback != null)\n          callback();\n      });\n    } finally {\n      delete root._bokeh_onload_callbacks\n    }\n    console.debug(\"Bokeh: all callbacks have finished\");\n  }\n\n  function load_libs(css_urls, js_urls, callback) {\n    if (css_urls == null) css_urls = [];\n    if (js_urls == null) js_urls = [];\n\n    root._bokeh_onload_callbacks.push(callback);\n    if (root._bokeh_is_loading > 0) {\n      console.debug(\"Bokeh: BokehJS is being loaded, scheduling callback at\", now());\n      return null;\n    }\n    if (js_urls == null || js_urls.length === 0) {\n      run_callbacks();\n      return null;\n    }\n    console.debug(\"Bokeh: BokehJS not loaded, scheduling load and callback at\", now());\n    root._bokeh_is_loading = css_urls.length + js_urls.length;\n\n    function on_load() {\n      root._bokeh_is_loading--;\n      if (root._bokeh_is_loading === 0) {\n        console.debug(\"Bokeh: all BokehJS libraries/stylesheets loaded\");\n        run_callbacks()\n      }\n    }\n\n    function on_error() {\n      console.error(\"failed to load \" + url);\n    }\n\n    for (var i = 0; i < css_urls.length; i++) {\n      var url = css_urls[i];\n      const element = document.createElement(\"link\");\n      element.onload = on_load;\n      element.onerror = on_error;\n      element.rel = \"stylesheet\";\n      element.type = \"text/css\";\n      element.href = url;\n      console.debug(\"Bokeh: injecting link tag for BokehJS stylesheet: \", url);\n      document.body.appendChild(element);\n    }\n\n    for (var i = 0; i < js_urls.length; i++) {\n      var url = js_urls[i];\n      var element = document.createElement('script');\n      element.onload = on_load;\n      element.onerror = on_error;\n      element.async = false;\n      element.src = url;\n      console.debug(\"Bokeh: injecting script tag for BokehJS library: \", url);\n      document.head.appendChild(element);\n    }\n  };\n\n  function inject_raw_css(css) {\n    const element = document.createElement(\"style\");\n    element.appendChild(document.createTextNode(css));\n    document.body.appendChild(element);\n  }\n\n  \n  var js_urls = [\"https://cdn.pydata.org/bokeh/release/bokeh-1.4.0.min.js\", \"https://cdn.pydata.org/bokeh/release/bokeh-widgets-1.4.0.min.js\", \"https://cdn.pydata.org/bokeh/release/bokeh-tables-1.4.0.min.js\", \"https://cdn.pydata.org/bokeh/release/bokeh-gl-1.4.0.min.js\"];\n  var css_urls = [];\n  \n\n  var inline_js = [\n    function(Bokeh) {\n      Bokeh.set_log_level(\"info\");\n    },\n    function(Bokeh) {\n    \n    \n    }\n  ];\n\n  function run_inline_js() {\n    \n    if (root.Bokeh !== undefined || force === true) {\n      \n    for (var i = 0; i < inline_js.length; i++) {\n      inline_js[i].call(root, root.Bokeh);\n    }\n    } else if (Date.now() < root._bokeh_timeout) {\n      setTimeout(run_inline_js, 100);\n    } else if (!root._bokeh_failed_load) {\n      console.log(\"Bokeh: BokehJS failed to load within specified timeout.\");\n      root._bokeh_failed_load = true;\n    } else if (force !== true) {\n      var cell = $(document.getElementById(null)).parents('.cell').data().cell;\n      cell.output_area.append_execute_result(NB_LOAD_WARNING)\n    }\n\n  }\n\n  if (root._bokeh_is_loading === 0) {\n    console.debug(\"Bokeh: BokehJS loaded, going straight to plotting\");\n    run_inline_js();\n  } else {\n    load_libs(css_urls, js_urls, function() {\n      console.debug(\"Bokeh: BokehJS plotting callback run at\", now());\n      run_inline_js();\n    });\n  }\n}(window));"
          },
          "metadata": {
            "tags": []
          }
        },
        {
          "output_type": "display_data",
          "data": {
            "text/html": [
              "\n",
              "\n",
              "\n",
              "\n",
              "\n",
              "\n",
              "  <div class=\"bk-root\" id=\"3e18bb91-d8f9-41cc-a18b-3c9b568c06b4\" data-root-id=\"1484\"></div>\n"
            ]
          },
          "metadata": {
            "tags": []
          }
        },
        {
          "output_type": "display_data",
          "data": {
            "application/javascript": [
              "(function(root) {\n",
              "  function embed_document(root) {\n",
              "    \n",
              "  var docs_json = {\"feb4b9fd-6e9f-4dde-9f3c-5463e84e9b76\":{\"roots\":{\"references\":[{\"attributes\":{\"below\":[{\"id\":\"1493\",\"type\":\"LinearAxis\"}],\"center\":[{\"id\":\"1497\",\"type\":\"Grid\"},{\"id\":\"1502\",\"type\":\"Grid\"}],\"left\":[{\"id\":\"1498\",\"type\":\"LinearAxis\"}],\"plot_height\":400,\"renderers\":[{\"id\":\"1519\",\"type\":\"GlyphRenderer\"}],\"title\":{\"id\":\"1560\",\"type\":\"Title\"},\"toolbar\":{\"id\":\"1509\",\"type\":\"Toolbar\"},\"x_range\":{\"id\":\"1485\",\"type\":\"DataRange1d\"},\"x_scale\":{\"id\":\"1489\",\"type\":\"LinearScale\"},\"y_range\":{\"id\":\"1487\",\"type\":\"DataRange1d\"},\"y_scale\":{\"id\":\"1491\",\"type\":\"LinearScale\"}},\"id\":\"1484\",\"subtype\":\"Figure\",\"type\":\"Plot\"},{\"attributes\":{\"source\":{\"id\":\"1483\",\"type\":\"ColumnDataSource\"}},\"id\":\"1520\",\"type\":\"CDSView\"},{\"attributes\":{\"bottom_units\":\"screen\",\"fill_alpha\":{\"value\":0.5},\"fill_color\":{\"value\":\"lightgrey\"},\"left_units\":\"screen\",\"level\":\"overlay\",\"line_alpha\":{\"value\":1.0},\"line_color\":{\"value\":\"black\"},\"line_dash\":[4,4],\"line_width\":{\"value\":2},\"render_mode\":\"css\",\"right_units\":\"screen\",\"top_units\":\"screen\"},\"id\":\"1565\",\"type\":\"BoxAnnotation\"},{\"attributes\":{\"callback\":null,\"data\":{\"color\":[\"blue\",\"blue\",\"blue\",\"blue\",\"blue\",\"blue\",\"blue\",\"blue\",\"blue\",\"blue\",\"blue\",\"blue\",\"blue\",\"blue\",\"blue\",\"blue\",\"blue\",\"blue\",\"blue\",\"blue\",\"blue\",\"blue\",\"blue\",\"blue\",\"blue\",\"blue\",\"blue\",\"blue\",\"blue\",\"blue\",\"blue\",\"blue\",\"blue\",\"blue\",\"blue\",\"blue\",\"blue\",\"blue\",\"blue\",\"blue\",\"blue\",\"blue\",\"blue\",\"blue\",\"blue\",\"blue\",\"blue\",\"blue\",\"blue\",\"blue\",\"blue\",\"blue\",\"blue\",\"blue\",\"blue\",\"blue\",\"blue\",\"blue\",\"blue\",\"blue\",\"blue\",\"blue\",\"blue\",\"blue\",\"blue\",\"blue\",\"blue\",\"blue\",\"blue\",\"blue\",\"blue\",\"blue\",\"blue\",\"blue\",\"blue\",\"blue\",\"blue\",\"blue\",\"blue\",\"blue\",\"blue\",\"blue\",\"blue\",\"blue\",\"blue\",\"blue\",\"blue\",\"blue\",\"blue\",\"blue\",\"blue\",\"blue\",\"blue\",\"blue\",\"blue\",\"blue\",\"blue\",\"blue\",\"blue\",\"blue\",\"blue\",\"blue\",\"blue\",\"blue\",\"blue\",\"blue\",\"blue\",\"blue\",\"blue\",\"blue\",\"blue\",\"blue\",\"blue\",\"blue\",\"blue\",\"blue\",\"blue\",\"blue\",\"blue\",\"blue\",\"blue\",\"blue\",\"blue\",\"blue\",\"blue\",\"blue\",\"blue\",\"blue\",\"blue\",\"blue\",\"blue\",\"blue\",\"blue\",\"blue\",\"blue\",\"blue\",\"blue\",\"blue\",\"blue\",\"blue\",\"blue\",\"blue\",\"blue\",\"blue\",\"blue\",\"blue\",\"blue\",\"blue\",\"blue\",\"blue\",\"blue\",\"blue\",\"blue\",\"blue\",\"blue\",\"blue\",\"blue\",\"blue\",\"blue\",\"blue\",\"blue\",\"blue\",\"blue\",\"blue\",\"blue\",\"blue\",\"blue\",\"blue\",\"blue\",\"blue\",\"blue\",\"blue\",\"blue\",\"blue\",\"blue\",\"blue\",\"blue\",\"blue\",\"blue\",\"blue\",\"blue\",\"blue\",\"blue\",\"blue\",\"blue\",\"blue\",\"blue\",\"blue\",\"blue\",\"blue\",\"blue\",\"blue\",\"blue\",\"blue\",\"blue\",\"blue\",\"blue\",\"blue\",\"blue\",\"blue\",\"blue\",\"blue\",\"blue\",\"blue\",\"blue\",\"blue\",\"blue\",\"blue\",\"blue\",\"blue\",\"blue\",\"blue\",\"blue\",\"blue\",\"blue\",\"blue\",\"blue\",\"blue\",\"blue\",\"blue\",\"blue\",\"blue\",\"blue\",\"blue\",\"blue\",\"blue\",\"blue\",\"blue\",\"blue\",\"blue\",\"blue\",\"blue\",\"blue\",\"blue\",\"blue\",\"blue\",\"blue\",\"blue\",\"blue\",\"blue\",\"blue\",\"blue\",\"blue\",\"blue\",\"blue\",\"blue\",\"blue\",\"blue\",\"blue\",\"blue\",\"blue\",\"blue\",\"blue\",\"blue\",\"blue\",\"blue\",\"blue\",\"blue\",\"blue\",\"blue\",\"blue\",\"blue\",\"blue\",\"blue\",\"blue\",\"blue\",\"blue\",\"blue\",\"blue\",\"blue\",\"blue\",\"blue\",\"blue\",\"blue\",\"blue\",\"blue\",\"blue\",\"blue\",\"blue\",\"blue\",\"blue\",\"blue\",\"blue\",\"blue\",\"blue\",\"blue\",\"blue\",\"blue\",\"blue\",\"blue\",\"blue\",\"blue\",\"blue\",\"blue\",\"blue\",\"blue\",\"blue\",\"blue\",\"blue\",\"blue\",\"blue\",\"blue\",\"blue\",\"blue\",\"blue\",\"blue\",\"blue\",\"blue\",\"blue\",\"blue\",\"blue\",\"blue\",\"blue\",\"blue\",\"blue\",\"blue\",\"blue\",\"blue\",\"blue\",\"blue\",\"blue\",\"blue\",\"blue\",\"blue\",\"blue\",\"blue\",\"blue\",\"blue\",\"blue\",\"blue\",\"blue\",\"blue\",\"blue\",\"blue\",\"blue\",\"blue\",\"blue\",\"blue\",\"blue\",\"blue\",\"blue\",\"blue\",\"blue\",\"blue\",\"blue\",\"blue\",\"blue\",\"blue\",\"blue\",\"blue\",\"blue\",\"blue\",\"blue\",\"blue\",\"blue\",\"blue\",\"blue\",\"blue\",\"blue\",\"blue\",\"blue\",\"blue\",\"blue\",\"blue\",\"blue\",\"blue\",\"blue\",\"blue\",\"blue\",\"blue\",\"blue\",\"blue\",\"blue\",\"blue\",\"blue\",\"blue\",\"blue\",\"blue\",\"blue\",\"blue\",\"blue\",\"blue\",\"blue\",\"blue\",\"blue\",\"blue\",\"blue\",\"blue\",\"blue\",\"blue\",\"blue\",\"blue\",\"blue\",\"blue\",\"blue\",\"blue\",\"blue\",\"blue\",\"blue\",\"blue\",\"blue\",\"blue\",\"blue\",\"blue\",\"blue\",\"blue\",\"blue\",\"blue\",\"blue\",\"blue\",\"blue\",\"blue\",\"blue\",\"blue\",\"blue\",\"blue\",\"blue\",\"blue\",\"blue\",\"blue\",\"blue\",\"blue\",\"blue\",\"blue\",\"blue\",\"blue\",\"blue\",\"blue\",\"blue\",\"blue\",\"blue\",\"blue\",\"blue\",\"blue\",\"blue\",\"blue\",\"blue\",\"blue\",\"blue\",\"blue\",\"blue\",\"blue\",\"blue\",\"blue\",\"blue\",\"blue\",\"blue\",\"blue\",\"blue\",\"blue\",\"blue\",\"blue\",\"blue\",\"blue\",\"blue\",\"blue\",\"blue\",\"blue\",\"blue\",\"blue\",\"blue\",\"blue\",\"blue\",\"blue\",\"blue\",\"blue\",\"blue\",\"blue\",\"blue\",\"blue\",\"blue\",\"blue\",\"blue\",\"blue\",\"blue\",\"blue\",\"blue\",\"blue\",\"blue\",\"blue\",\"blue\",\"blue\",\"blue\",\"blue\",\"blue\",\"blue\",\"blue\",\"blue\",\"blue\",\"blue\",\"blue\",\"blue\",\"blue\",\"blue\",\"blue\",\"blue\",\"blue\",\"blue\",\"blue\",\"blue\",\"blue\",\"blue\",\"blue\",\"blue\",\"blue\",\"blue\",\"blue\",\"blue\",\"blue\",\"blue\",\"blue\",\"blue\",\"blue\",\"blue\",\"blue\",\"blue\",\"blue\",\"blue\",\"blue\",\"blue\",\"blue\",\"blue\",\"blue\",\"blue\",\"blue\",\"blue\",\"blue\",\"blue\",\"blue\",\"blue\",\"blue\",\"blue\",\"blue\",\"blue\",\"blue\",\"blue\",\"blue\",\"blue\",\"blue\",\"blue\",\"blue\",\"blue\",\"blue\",\"blue\",\"blue\",\"blue\",\"blue\",\"blue\",\"blue\",\"blue\",\"blue\",\"blue\",\"blue\",\"blue\",\"blue\",\"blue\",\"blue\",\"blue\",\"blue\",\"blue\",\"blue\",\"blue\",\"blue\",\"blue\",\"blue\",\"blue\",\"blue\",\"blue\",\"blue\",\"blue\",\"blue\",\"blue\",\"blue\",\"blue\",\"blue\",\"blue\",\"blue\",\"blue\",\"blue\",\"blue\",\"blue\",\"blue\",\"blue\",\"blue\",\"blue\",\"blue\",\"blue\",\"blue\",\"blue\",\"blue\",\"blue\",\"blue\",\"blue\",\"blue\",\"blue\",\"blue\",\"blue\",\"blue\",\"blue\",\"blue\",\"blue\",\"blue\",\"blue\",\"blue\",\"blue\",\"blue\",\"blue\",\"blue\",\"blue\",\"blue\",\"blue\",\"blue\",\"blue\",\"blue\",\"blue\",\"blue\",\"blue\",\"blue\",\"blue\",\"blue\",\"blue\",\"blue\",\"blue\",\"blue\",\"blue\",\"blue\",\"blue\",\"blue\",\"blue\",\"blue\",\"blue\",\"blue\",\"blue\",\"blue\",\"blue\",\"blue\",\"blue\",\"blue\",\"blue\",\"blue\",\"blue\",\"blue\",\"blue\",\"blue\",\"blue\",\"blue\",\"blue\",\"blue\",\"blue\",\"blue\",\"blue\",\"blue\",\"blue\",\"blue\",\"blue\",\"blue\",\"blue\",\"blue\",\"blue\",\"blue\",\"blue\",\"blue\",\"blue\",\"blue\",\"blue\",\"blue\",\"blue\",\"blue\",\"blue\",\"blue\",\"blue\",\"blue\",\"blue\",\"blue\",\"blue\",\"blue\",\"blue\",\"blue\",\"blue\",\"blue\",\"blue\",\"blue\",\"blue\",\"blue\",\"blue\",\"blue\",\"blue\",\"blue\",\"blue\",\"blue\",\"blue\",\"blue\",\"blue\",\"blue\",\"blue\",\"blue\",\"blue\",\"blue\",\"blue\",\"blue\",\"blue\",\"blue\",\"blue\",\"blue\",\"blue\",\"blue\",\"blue\",\"blue\",\"blue\",\"blue\",\"blue\",\"blue\",\"blue\",\"blue\",\"blue\",\"blue\",\"blue\",\"blue\",\"blue\",\"blue\",\"blue\",\"blue\",\"blue\",\"blue\",\"blue\",\"blue\",\"blue\",\"blue\",\"blue\",\"blue\",\"blue\",\"blue\",\"blue\",\"blue\",\"blue\",\"blue\",\"blue\",\"blue\",\"blue\",\"blue\",\"blue\",\"blue\",\"blue\",\"blue\",\"blue\",\"blue\",\"blue\",\"blue\",\"blue\",\"blue\",\"blue\",\"blue\",\"blue\",\"blue\",\"blue\",\"blue\",\"blue\",\"blue\",\"blue\",\"blue\",\"blue\",\"blue\",\"blue\",\"blue\",\"blue\",\"blue\",\"blue\",\"blue\",\"blue\",\"blue\",\"blue\",\"blue\",\"blue\",\"blue\",\"blue\",\"blue\",\"blue\",\"blue\",\"blue\",\"blue\",\"blue\",\"blue\",\"blue\",\"blue\",\"blue\",\"blue\",\"blue\",\"blue\",\"blue\",\"blue\",\"blue\",\"blue\",\"blue\",\"blue\",\"blue\",\"blue\",\"blue\",\"blue\",\"blue\",\"blue\",\"blue\",\"blue\",\"blue\",\"blue\",\"blue\",\"blue\",\"blue\",\"blue\",\"blue\",\"blue\",\"blue\",\"blue\",\"blue\",\"blue\",\"blue\",\"blue\",\"blue\",\"blue\",\"blue\",\"blue\",\"blue\",\"blue\",\"blue\",\"blue\",\"blue\",\"blue\",\"blue\",\"blue\",\"blue\",\"blue\",\"blue\",\"blue\",\"blue\",\"blue\",\"blue\",\"blue\",\"blue\",\"blue\",\"blue\",\"blue\",\"blue\",\"blue\",\"blue\",\"blue\",\"blue\",\"blue\",\"blue\",\"blue\",\"blue\",\"blue\",\"blue\",\"blue\",\"blue\",\"blue\",\"blue\",\"blue\",\"blue\",\"blue\",\"blue\",\"blue\",\"blue\",\"blue\",\"blue\",\"blue\",\"blue\",\"blue\",\"blue\",\"blue\",\"blue\",\"blue\",\"blue\",\"blue\",\"blue\",\"blue\",\"blue\",\"blue\",\"blue\",\"blue\",\"blue\",\"blue\",\"blue\",\"blue\",\"blue\",\"blue\",\"blue\",\"blue\",\"blue\",\"blue\",\"blue\",\"blue\",\"blue\",\"blue\",\"blue\",\"blue\",\"blue\",\"blue\",\"blue\",\"blue\",\"blue\",\"blue\",\"blue\",\"blue\",\"blue\",\"blue\",\"blue\",\"blue\",\"blue\",\"blue\",\"blue\",\"blue\",\"blue\",\"blue\",\"blue\",\"blue\",\"blue\",\"blue\",\"blue\",\"blue\",\"blue\",\"blue\",\"blue\",\"blue\",\"blue\",\"blue\",\"blue\",\"blue\",\"blue\",\"blue\",\"blue\",\"blue\",\"blue\",\"blue\",\"blue\",\"blue\",\"blue\",\"blue\",\"blue\",\"blue\",\"blue\",\"blue\",\"blue\",\"blue\",\"blue\",\"blue\",\"blue\",\"blue\",\"blue\",\"blue\",\"blue\",\"blue\",\"blue\",\"blue\",\"blue\",\"blue\",\"blue\",\"blue\",\"blue\",\"blue\",\"blue\",\"blue\",\"blue\",\"blue\",\"blue\",\"blue\",\"blue\",\"blue\",\"blue\",\"blue\",\"blue\",\"blue\",\"blue\",\"blue\",\"blue\",\"blue\",\"blue\",\"blue\",\"blue\",\"blue\",\"blue\",\"blue\",\"blue\",\"blue\",\"blue\",\"blue\",\"blue\",\"blue\",\"blue\",\"blue\",\"blue\",\"blue\",\"blue\",\"blue\",\"blue\",\"blue\",\"blue\",\"blue\",\"blue\",\"blue\",\"blue\",\"blue\",\"blue\",\"blue\",\"blue\",\"blue\",\"blue\",\"blue\",\"blue\",\"blue\",\"blue\",\"blue\",\"blue\",\"blue\",\"blue\",\"blue\",\"blue\",\"blue\",\"blue\",\"blue\",\"blue\",\"blue\",\"blue\",\"blue\",\"blue\",\"blue\",\"blue\",\"blue\",\"blue\",\"blue\",\"blue\",\"blue\",\"blue\",\"blue\",\"blue\",\"blue\",\"blue\",\"blue\",\"blue\",\"blue\",\"blue\",\"blue\",\"blue\",\"blue\",\"blue\",\"blue\",\"blue\",\"blue\",\"blue\",\"blue\",\"blue\",\"blue\",\"blue\",\"blue\",\"blue\",\"blue\",\"blue\",\"blue\",\"blue\",\"blue\",\"blue\",\"blue\",\"blue\",\"blue\",\"blue\",\"blue\",\"blue\",\"blue\",\"blue\",\"blue\",\"blue\",\"blue\",\"blue\",\"blue\",\"blue\",\"blue\",\"blue\",\"blue\",\"blue\",\"blue\",\"blue\",\"blue\",\"blue\",\"blue\",\"blue\",\"blue\",\"blue\",\"blue\",\"blue\",\"blue\",\"blue\",\"blue\",\"blue\",\"blue\",\"blue\",\"blue\",\"blue\",\"blue\",\"blue\",\"blue\",\"blue\",\"blue\",\"blue\",\"blue\",\"blue\",\"blue\",\"blue\",\"blue\",\"blue\",\"blue\",\"blue\",\"blue\",\"blue\",\"blue\",\"blue\",\"blue\",\"blue\",\"blue\",\"blue\",\"blue\",\"blue\",\"blue\",\"blue\",\"blue\",\"blue\",\"blue\",\"blue\",\"blue\",\"blue\",\"blue\",\"blue\",\"blue\",\"blue\",\"blue\",\"blue\",\"blue\",\"blue\",\"blue\",\"blue\",\"blue\",\"blue\",\"blue\",\"blue\",\"blue\",\"blue\",\"blue\",\"blue\",\"blue\",\"blue\",\"blue\",\"blue\",\"blue\",\"blue\",\"blue\",\"blue\",\"blue\",\"blue\",\"blue\",\"blue\",\"blue\",\"blue\",\"blue\",\"blue\",\"blue\",\"blue\",\"blue\",\"blue\",\"blue\",\"blue\",\"blue\",\"blue\",\"blue\",\"blue\",\"blue\",\"blue\",\"blue\",\"blue\",\"blue\",\"blue\",\"blue\",\"blue\",\"blue\",\"blue\",\"blue\",\"blue\",\"blue\",\"blue\",\"blue\",\"blue\",\"blue\",\"blue\",\"blue\",\"blue\",\"blue\",\"blue\",\"blue\",\"blue\",\"blue\",\"blue\",\"blue\",\"blue\",\"blue\",\"blue\",\"blue\",\"blue\",\"blue\",\"blue\",\"blue\",\"blue\",\"blue\",\"blue\",\"blue\",\"blue\",\"blue\",\"blue\",\"blue\",\"blue\",\"blue\",\"blue\",\"blue\",\"blue\",\"blue\",\"blue\",\"blue\",\"blue\",\"blue\",\"blue\",\"blue\",\"blue\",\"blue\",\"blue\",\"blue\",\"blue\",\"blue\",\"blue\",\"blue\",\"blue\",\"blue\",\"blue\",\"blue\",\"blue\",\"blue\",\"blue\",\"blue\",\"blue\",\"blue\",\"blue\",\"blue\",\"blue\",\"blue\",\"blue\",\"blue\",\"blue\",\"blue\",\"blue\",\"blue\",\"blue\",\"blue\",\"blue\",\"blue\",\"blue\",\"blue\",\"blue\",\"blue\",\"blue\",\"blue\",\"blue\",\"blue\",\"blue\",\"blue\",\"blue\",\"blue\",\"blue\",\"blue\",\"blue\",\"blue\",\"blue\",\"blue\",\"blue\",\"blue\",\"blue\",\"blue\",\"blue\",\"blue\",\"blue\",\"blue\",\"blue\",\"blue\",\"blue\",\"blue\",\"blue\",\"blue\",\"blue\",\"blue\",\"blue\",\"blue\",\"blue\",\"blue\",\"blue\",\"blue\",\"blue\",\"blue\",\"blue\",\"blue\",\"blue\",\"blue\",\"blue\",\"blue\",\"blue\",\"blue\",\"blue\",\"blue\",\"blue\",\"blue\",\"blue\",\"blue\",\"blue\",\"blue\",\"blue\",\"blue\",\"blue\",\"blue\",\"blue\",\"blue\",\"blue\",\"blue\",\"blue\",\"blue\",\"blue\",\"blue\",\"blue\",\"blue\",\"blue\",\"blue\",\"blue\",\"blue\",\"blue\",\"blue\",\"blue\",\"blue\",\"blue\",\"blue\",\"blue\",\"blue\",\"blue\",\"blue\",\"blue\",\"blue\",\"blue\",\"blue\",\"blue\",\"blue\",\"blue\",\"blue\",\"blue\",\"blue\",\"blue\",\"blue\",\"blue\",\"blue\",\"blue\",\"blue\",\"blue\",\"blue\",\"blue\",\"blue\",\"blue\",\"blue\",\"blue\",\"blue\",\"blue\",\"blue\",\"blue\",\"blue\",\"blue\",\"blue\",\"blue\",\"blue\",\"blue\",\"blue\",\"blue\",\"blue\",\"blue\",\"blue\",\"blue\",\"blue\",\"blue\",\"blue\",\"blue\",\"blue\",\"blue\",\"blue\",\"blue\",\"blue\",\"blue\",\"blue\",\"blue\",\"blue\",\"blue\",\"blue\",\"blue\",\"blue\",\"blue\",\"blue\",\"blue\",\"blue\",\"blue\",\"blue\",\"blue\",\"blue\",\"blue\",\"blue\",\"blue\",\"blue\",\"blue\",\"blue\",\"blue\",\"blue\",\"blue\",\"blue\",\"blue\",\"blue\",\"blue\",\"blue\",\"blue\",\"blue\",\"blue\",\"blue\",\"blue\",\"blue\",\"blue\",\"blue\",\"blue\",\"blue\",\"blue\",\"blue\",\"blue\",\"blue\",\"blue\",\"blue\",\"blue\",\"blue\",\"blue\",\"blue\",\"blue\",\"blue\",\"blue\",\"blue\",\"blue\",\"blue\",\"blue\",\"blue\",\"blue\",\"blue\",\"blue\",\"blue\",\"blue\",\"blue\",\"blue\",\"blue\",\"blue\",\"blue\",\"blue\",\"blue\",\"blue\",\"blue\",\"blue\",\"blue\",\"blue\",\"blue\",\"blue\",\"blue\",\"blue\",\"blue\",\"blue\",\"blue\",\"blue\",\"blue\",\"blue\",\"blue\",\"blue\",\"blue\",\"blue\",\"blue\",\"blue\",\"blue\",\"blue\",\"blue\",\"blue\",\"blue\",\"blue\",\"blue\",\"blue\",\"blue\",\"blue\",\"blue\",\"blue\",\"blue\",\"blue\",\"blue\",\"blue\",\"blue\",\"blue\",\"blue\",\"blue\",\"blue\",\"blue\",\"blue\",\"blue\",\"blue\",\"blue\",\"blue\",\"blue\",\"blue\",\"blue\",\"blue\",\"blue\",\"blue\",\"blue\",\"blue\",\"blue\",\"blue\",\"blue\",\"blue\",\"blue\",\"blue\",\"blue\",\"blue\",\"blue\",\"blue\",\"blue\",\"blue\",\"blue\",\"blue\",\"blue\",\"blue\",\"blue\",\"blue\",\"blue\",\"blue\",\"blue\",\"blue\",\"blue\",\"blue\",\"blue\",\"blue\",\"blue\",\"blue\",\"blue\",\"blue\",\"blue\",\"blue\",\"blue\",\"blue\",\"blue\",\"blue\",\"blue\",\"blue\",\"blue\",\"blue\",\"blue\",\"blue\",\"blue\",\"blue\",\"blue\",\"blue\",\"blue\",\"blue\",\"blue\",\"blue\",\"blue\",\"blue\",\"blue\",\"blue\",\"blue\",\"blue\",\"blue\",\"blue\",\"blue\",\"blue\",\"blue\",\"blue\",\"blue\",\"blue\",\"blue\",\"blue\",\"blue\",\"blue\",\"blue\",\"blue\",\"blue\",\"blue\",\"blue\",\"blue\",\"blue\",\"blue\",\"blue\",\"blue\",\"blue\",\"blue\",\"blue\",\"blue\",\"blue\",\"blue\",\"blue\",\"blue\",\"blue\",\"blue\",\"blue\",\"blue\",\"blue\",\"blue\",\"blue\",\"blue\",\"blue\",\"blue\",\"blue\",\"blue\",\"blue\",\"blue\",\"blue\",\"blue\",\"blue\",\"blue\",\"blue\",\"blue\",\"blue\",\"blue\",\"blue\",\"blue\",\"blue\",\"blue\",\"blue\",\"blue\",\"blue\",\"blue\",\"blue\",\"blue\",\"blue\",\"blue\",\"blue\",\"blue\",\"blue\",\"blue\",\"blue\",\"blue\",\"blue\",\"blue\",\"blue\",\"blue\",\"blue\",\"blue\",\"blue\",\"blue\",\"blue\",\"blue\",\"blue\",\"blue\",\"blue\",\"blue\",\"blue\",\"blue\",\"blue\",\"blue\",\"blue\",\"blue\",\"blue\",\"blue\",\"blue\",\"blue\",\"blue\",\"blue\",\"blue\",\"blue\",\"blue\",\"blue\",\"blue\",\"blue\",\"blue\",\"blue\",\"blue\",\"blue\",\"blue\",\"blue\",\"blue\",\"blue\",\"blue\",\"blue\",\"blue\",\"blue\",\"blue\",\"blue\",\"blue\",\"blue\",\"blue\",\"blue\",\"blue\",\"blue\",\"blue\",\"blue\",\"blue\",\"blue\",\"blue\",\"blue\",\"blue\",\"blue\",\"blue\",\"blue\",\"blue\",\"blue\",\"blue\",\"blue\",\"blue\",\"blue\",\"blue\",\"blue\",\"blue\",\"blue\",\"blue\",\"blue\",\"blue\",\"blue\",\"blue\",\"blue\",\"blue\",\"blue\",\"blue\",\"blue\",\"blue\",\"blue\",\"blue\",\"blue\",\"blue\",\"blue\",\"blue\",\"blue\",\"blue\",\"blue\",\"blue\",\"blue\",\"blue\",\"blue\",\"blue\",\"blue\",\"blue\",\"blue\",\"blue\",\"blue\",\"blue\",\"blue\",\"blue\",\"blue\",\"blue\",\"blue\",\"blue\",\"blue\",\"blue\",\"blue\",\"blue\",\"blue\",\"blue\",\"blue\",\"blue\",\"blue\",\"blue\",\"blue\",\"blue\",\"blue\",\"blue\",\"blue\",\"blue\",\"blue\",\"blue\",\"blue\",\"blue\",\"blue\",\"blue\",\"blue\",\"blue\",\"blue\",\"blue\",\"blue\",\"blue\",\"blue\",\"blue\",\"blue\",\"blue\",\"blue\",\"blue\",\"blue\",\"blue\",\"blue\",\"blue\",\"blue\",\"blue\",\"blue\",\"blue\",\"blue\",\"blue\",\"blue\",\"blue\",\"blue\",\"blue\",\"blue\",\"blue\",\"blue\",\"blue\",\"blue\",\"blue\",\"blue\",\"blue\",\"blue\",\"blue\",\"blue\",\"blue\",\"blue\",\"blue\",\"blue\",\"blue\",\"blue\",\"blue\",\"blue\",\"blue\",\"blue\",\"blue\",\"blue\",\"blue\",\"blue\",\"blue\",\"blue\",\"blue\",\"blue\",\"blue\",\"blue\",\"blue\",\"blue\",\"blue\",\"blue\",\"blue\",\"blue\",\"blue\",\"blue\",\"blue\",\"blue\",\"blue\",\"blue\",\"blue\",\"blue\",\"blue\",\"blue\",\"blue\",\"blue\",\"blue\",\"blue\",\"blue\",\"blue\",\"blue\",\"blue\",\"blue\",\"blue\",\"blue\",\"blue\",\"blue\",\"blue\",\"blue\",\"blue\",\"blue\",\"blue\",\"blue\",\"blue\",\"blue\",\"blue\",\"blue\",\"blue\",\"blue\",\"blue\",\"blue\",\"blue\",\"blue\",\"blue\",\"blue\",\"blue\",\"blue\",\"blue\",\"blue\",\"blue\",\"blue\",\"blue\",\"blue\",\"blue\",\"blue\",\"blue\",\"blue\",\"blue\",\"blue\",\"blue\",\"blue\",\"blue\",\"blue\",\"blue\",\"blue\",\"blue\",\"blue\",\"blue\",\"blue\",\"blue\",\"blue\",\"blue\",\"blue\",\"blue\",\"blue\",\"blue\",\"blue\",\"blue\",\"blue\",\"blue\",\"blue\",\"blue\",\"blue\",\"blue\",\"blue\",\"blue\",\"blue\",\"blue\",\"blue\",\"blue\",\"blue\",\"blue\",\"blue\",\"blue\",\"blue\",\"blue\",\"blue\",\"blue\",\"blue\",\"blue\",\"blue\",\"blue\",\"blue\",\"blue\",\"blue\",\"blue\",\"blue\",\"blue\",\"blue\",\"blue\",\"blue\",\"blue\",\"blue\",\"blue\",\"blue\",\"blue\",\"blue\",\"blue\",\"blue\",\"blue\",\"blue\",\"blue\",\"blue\",\"blue\",\"blue\",\"blue\",\"blue\",\"blue\",\"blue\",\"blue\",\"blue\",\"blue\",\"blue\",\"blue\",\"blue\",\"blue\",\"blue\",\"blue\",\"blue\",\"blue\",\"blue\",\"blue\",\"blue\",\"blue\",\"blue\",\"blue\",\"blue\",\"blue\",\"blue\",\"blue\",\"blue\",\"blue\",\"blue\",\"blue\",\"blue\",\"blue\",\"blue\",\"blue\",\"blue\",\"blue\",\"blue\",\"blue\",\"blue\",\"blue\",\"blue\",\"blue\",\"blue\",\"blue\",\"blue\",\"blue\",\"blue\",\"blue\",\"blue\",\"blue\",\"blue\",\"blue\",\"blue\",\"blue\",\"blue\",\"blue\",\"blue\",\"blue\",\"blue\",\"blue\",\"blue\",\"blue\",\"blue\",\"blue\",\"blue\",\"blue\",\"blue\",\"blue\",\"blue\",\"blue\",\"blue\",\"blue\",\"blue\",\"blue\",\"blue\",\"blue\",\"blue\",\"blue\",\"blue\",\"blue\",\"blue\",\"blue\",\"blue\",\"blue\",\"blue\",\"blue\",\"blue\",\"blue\",\"blue\",\"blue\",\"blue\",\"blue\",\"blue\",\"blue\",\"blue\",\"blue\",\"blue\",\"blue\",\"blue\",\"blue\",\"blue\",\"blue\",\"blue\",\"blue\",\"blue\",\"blue\",\"blue\",\"blue\",\"blue\",\"blue\",\"blue\",\"blue\",\"blue\",\"blue\",\"blue\",\"blue\",\"blue\",\"blue\",\"blue\",\"blue\",\"blue\",\"blue\",\"blue\",\"blue\",\"blue\",\"blue\",\"blue\",\"blue\",\"blue\",\"blue\",\"blue\",\"blue\",\"blue\",\"blue\",\"blue\",\"blue\",\"blue\",\"blue\",\"blue\",\"blue\",\"blue\",\"blue\",\"blue\",\"blue\",\"blue\",\"blue\",\"blue\",\"blue\",\"blue\",\"blue\",\"blue\",\"blue\",\"blue\",\"blue\",\"blue\",\"blue\",\"blue\",\"blue\",\"blue\",\"blue\",\"blue\",\"blue\",\"blue\",\"blue\",\"blue\",\"blue\",\"blue\",\"blue\",\"blue\",\"blue\",\"blue\",\"blue\",\"blue\",\"blue\",\"blue\",\"blue\",\"blue\",\"blue\",\"blue\",\"blue\",\"blue\",\"blue\",\"blue\",\"blue\",\"blue\",\"blue\",\"blue\",\"blue\",\"blue\",\"blue\",\"blue\",\"blue\",\"blue\",\"blue\",\"blue\",\"blue\",\"blue\",\"blue\",\"blue\",\"blue\",\"blue\",\"blue\",\"blue\",\"blue\",\"blue\",\"blue\",\"blue\",\"blue\",\"blue\",\"blue\",\"blue\",\"blue\",\"blue\",\"blue\",\"blue\",\"blue\",\"blue\",\"blue\",\"blue\",\"blue\",\"blue\",\"blue\",\"blue\",\"blue\",\"blue\",\"blue\",\"blue\",\"blue\",\"blue\",\"blue\",\"blue\",\"blue\",\"blue\",\"blue\",\"blue\",\"blue\",\"blue\",\"blue\",\"blue\",\"blue\",\"blue\",\"blue\",\"blue\",\"blue\",\"blue\",\"blue\",\"blue\",\"blue\",\"blue\",\"blue\",\"blue\",\"blue\",\"blue\",\"blue\",\"blue\",\"blue\",\"blue\",\"blue\",\"blue\",\"blue\",\"blue\",\"blue\",\"blue\",\"blue\",\"blue\",\"blue\",\"blue\",\"blue\",\"blue\",\"blue\",\"blue\",\"blue\",\"blue\",\"blue\",\"blue\",\"blue\",\"blue\",\"blue\",\"blue\",\"blue\",\"blue\",\"blue\",\"blue\",\"blue\",\"blue\",\"blue\",\"blue\",\"blue\",\"blue\",\"blue\",\"blue\",\"blue\",\"blue\",\"blue\",\"blue\",\"blue\",\"blue\",\"blue\",\"blue\",\"blue\",\"blue\",\"blue\",\"blue\",\"blue\",\"blue\",\"blue\",\"blue\",\"blue\",\"blue\",\"blue\",\"blue\",\"blue\",\"blue\",\"blue\",\"blue\",\"blue\",\"blue\",\"blue\",\"blue\",\"blue\",\"blue\",\"blue\",\"blue\",\"blue\",\"blue\",\"blue\",\"blue\",\"blue\",\"blue\",\"blue\",\"blue\",\"blue\",\"blue\"],\"x\":{\"__ndarray__\":\"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\",\"dtype\":\"float32\",\"shape\":[2291]},\"y\":{\"__ndarray__\":\"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\",\"dtype\":\"float32\",\"shape\":[2291]}},\"selected\":{\"id\":\"1567\",\"type\":\"Selection\"},\"selection_policy\":{\"id\":\"1566\",\"type\":\"UnionRenderers\"}},\"id\":\"1483\",\"type\":\"ColumnDataSource\"},{\"attributes\":{},\"id\":\"1566\",\"type\":\"UnionRenderers\"},{\"attributes\":{\"formatter\":{\"id\":\"1562\",\"type\":\"BasicTickFormatter\"},\"ticker\":{\"id\":\"1499\",\"type\":\"BasicTicker\"}},\"id\":\"1498\",\"type\":\"LinearAxis\"},{\"attributes\":{},\"id\":\"1507\",\"type\":\"ResetTool\"},{\"attributes\":{\"fill_alpha\":{\"value\":0.1},\"fill_color\":{\"value\":\"#1f77b4\"},\"line_alpha\":{\"value\":0.1},\"line_color\":{\"value\":\"#1f77b4\"},\"size\":{\"units\":\"screen\",\"value\":10},\"x\":{\"field\":\"x\"},\"y\":{\"field\":\"y\"}},\"id\":\"1518\",\"type\":\"Scatter\"},{\"attributes\":{\"fill_alpha\":{\"value\":0.25},\"fill_color\":{\"field\":\"color\"},\"line_alpha\":{\"value\":0.25},\"line_color\":{\"field\":\"color\"},\"size\":{\"units\":\"screen\",\"value\":10},\"x\":{\"field\":\"x\"},\"y\":{\"field\":\"y\"}},\"id\":\"1517\",\"type\":\"Scatter\"},{\"attributes\":{},\"id\":\"1499\",\"type\":\"BasicTicker\"},{\"attributes\":{\"ticker\":{\"id\":\"1494\",\"type\":\"BasicTicker\"}},\"id\":\"1497\",\"type\":\"Grid\"},{\"attributes\":{},\"id\":\"1564\",\"type\":\"BasicTickFormatter\"},{\"attributes\":{},\"id\":\"1504\",\"type\":\"WheelZoomTool\"},{\"attributes\":{},\"id\":\"1567\",\"type\":\"Selection\"},{\"attributes\":{},\"id\":\"1491\",\"type\":\"LinearScale\"},{\"attributes\":{},\"id\":\"1562\",\"type\":\"BasicTickFormatter\"},{\"attributes\":{\"callback\":null},\"id\":\"1485\",\"type\":\"DataRange1d\"},{\"attributes\":{\"callback\":null},\"id\":\"1487\",\"type\":\"DataRange1d\"},{\"attributes\":{},\"id\":\"1508\",\"type\":\"HelpTool\"},{\"attributes\":{},\"id\":\"1506\",\"type\":\"SaveTool\"},{\"attributes\":{},\"id\":\"1503\",\"type\":\"PanTool\"},{\"attributes\":{},\"id\":\"1494\",\"type\":\"BasicTicker\"},{\"attributes\":{},\"id\":\"1489\",\"type\":\"LinearScale\"},{\"attributes\":{\"overlay\":{\"id\":\"1565\",\"type\":\"BoxAnnotation\"}},\"id\":\"1505\",\"type\":\"BoxZoomTool\"},{\"attributes\":{\"active_drag\":\"auto\",\"active_inspect\":\"auto\",\"active_multi\":null,\"active_scroll\":{\"id\":\"1504\",\"type\":\"WheelZoomTool\"},\"active_tap\":\"auto\",\"tools\":[{\"id\":\"1503\",\"type\":\"PanTool\"},{\"id\":\"1504\",\"type\":\"WheelZoomTool\"},{\"id\":\"1505\",\"type\":\"BoxZoomTool\"},{\"id\":\"1506\",\"type\":\"SaveTool\"},{\"id\":\"1507\",\"type\":\"ResetTool\"},{\"id\":\"1508\",\"type\":\"HelpTool\"},{\"id\":\"1521\",\"type\":\"HoverTool\"}]},\"id\":\"1509\",\"type\":\"Toolbar\"},{\"attributes\":{\"data_source\":{\"id\":\"1483\",\"type\":\"ColumnDataSource\"},\"glyph\":{\"id\":\"1517\",\"type\":\"Scatter\"},\"hover_glyph\":null,\"muted_glyph\":null,\"nonselection_glyph\":{\"id\":\"1518\",\"type\":\"Scatter\"},\"selection_glyph\":null,\"view\":{\"id\":\"1520\",\"type\":\"CDSView\"}},\"id\":\"1519\",\"type\":\"GlyphRenderer\"},{\"attributes\":{\"callback\":null,\"tooltips\":[]},\"id\":\"1521\",\"type\":\"HoverTool\"},{\"attributes\":{\"dimension\":1,\"ticker\":{\"id\":\"1499\",\"type\":\"BasicTicker\"}},\"id\":\"1502\",\"type\":\"Grid\"},{\"attributes\":{\"text\":\"\"},\"id\":\"1560\",\"type\":\"Title\"},{\"attributes\":{\"formatter\":{\"id\":\"1564\",\"type\":\"BasicTickFormatter\"},\"ticker\":{\"id\":\"1494\",\"type\":\"BasicTicker\"}},\"id\":\"1493\",\"type\":\"LinearAxis\"}],\"root_ids\":[\"1484\"]},\"title\":\"Bokeh Application\",\"version\":\"1.4.0\"}};\n",
              "  var render_items = [{\"docid\":\"feb4b9fd-6e9f-4dde-9f3c-5463e84e9b76\",\"roots\":{\"1484\":\"3e18bb91-d8f9-41cc-a18b-3c9b568c06b4\"}}];\n",
              "  root.Bokeh.embed.embed_items_notebook(docs_json, render_items);\n",
              "\n",
              "  }\n",
              "  if (root.Bokeh !== undefined) {\n",
              "    embed_document(root);\n",
              "  } else {\n",
              "    var attempts = 0;\n",
              "    var timer = setInterval(function(root) {\n",
              "      if (root.Bokeh !== undefined) {\n",
              "        clearInterval(timer);\n",
              "        embed_document(root);\n",
              "      } else {\n",
              "        attempts++;\n",
              "        if (attempts > 100) {\n",
              "          clearInterval(timer);\n",
              "          console.log(\"Bokeh: ERROR: Unable to run BokehJS code because BokehJS library is missing\");\n",
              "        }\n",
              "      }\n",
              "    }, 10, root)\n",
              "  }\n",
              "})(window);"
            ],
            "application/vnd.bokehjs_exec.v0+json": ""
          },
          "metadata": {
            "tags": [],
            "application/vnd.bokehjs_exec.v0+json": {
              "id": "1484"
            }
          }
        },
        {
          "output_type": "execute_result",
          "data": {
            "text/html": [
              "<div style=\"display: table;\"><div style=\"display: table-row;\"><div style=\"display: table-cell;\"><b title=\"bokeh.plotting.figure.Figure\">Figure</b>(</div><div style=\"display: table-cell;\">id&nbsp;=&nbsp;'1484', <span id=\"1623\" style=\"cursor: pointer;\">&hellip;)</span></div></div><div class=\"1622\" style=\"display: none;\"><div style=\"display: table-cell;\"></div><div style=\"display: table-cell;\">above&nbsp;=&nbsp;[],</div></div><div class=\"1622\" style=\"display: none;\"><div style=\"display: table-cell;\"></div><div style=\"display: table-cell;\">align&nbsp;=&nbsp;'start',</div></div><div class=\"1622\" style=\"display: none;\"><div style=\"display: table-cell;\"></div><div style=\"display: table-cell;\">aspect_ratio&nbsp;=&nbsp;None,</div></div><div class=\"1622\" style=\"display: none;\"><div style=\"display: table-cell;\"></div><div style=\"display: table-cell;\">aspect_scale&nbsp;=&nbsp;1,</div></div><div class=\"1622\" style=\"display: none;\"><div style=\"display: table-cell;\"></div><div style=\"display: table-cell;\">background&nbsp;=&nbsp;None,</div></div><div class=\"1622\" style=\"display: none;\"><div style=\"display: table-cell;\"></div><div style=\"display: table-cell;\">background_fill_alpha&nbsp;=&nbsp;{'value': 1.0},</div></div><div class=\"1622\" style=\"display: none;\"><div style=\"display: table-cell;\"></div><div style=\"display: table-cell;\">background_fill_color&nbsp;=&nbsp;{'value': '#ffffff'},</div></div><div class=\"1622\" style=\"display: none;\"><div style=\"display: table-cell;\"></div><div style=\"display: table-cell;\">below&nbsp;=&nbsp;[LinearAxis(id='1493', ...)],</div></div><div class=\"1622\" style=\"display: none;\"><div style=\"display: table-cell;\"></div><div style=\"display: table-cell;\">border_fill_alpha&nbsp;=&nbsp;{'value': 1.0},</div></div><div class=\"1622\" style=\"display: none;\"><div style=\"display: table-cell;\"></div><div style=\"display: table-cell;\">border_fill_color&nbsp;=&nbsp;{'value': '#ffffff'},</div></div><div class=\"1622\" style=\"display: none;\"><div style=\"display: table-cell;\"></div><div style=\"display: table-cell;\">center&nbsp;=&nbsp;[Grid(id='1497', ...), Grid(id='1502', ...)],</div></div><div class=\"1622\" style=\"display: none;\"><div style=\"display: table-cell;\"></div><div style=\"display: table-cell;\">css_classes&nbsp;=&nbsp;[],</div></div><div class=\"1622\" style=\"display: none;\"><div style=\"display: table-cell;\"></div><div style=\"display: table-cell;\">disabled&nbsp;=&nbsp;False,</div></div><div class=\"1622\" style=\"display: none;\"><div style=\"display: table-cell;\"></div><div style=\"display: table-cell;\">extra_x_ranges&nbsp;=&nbsp;{},</div></div><div class=\"1622\" style=\"display: none;\"><div style=\"display: table-cell;\"></div><div style=\"display: table-cell;\">extra_y_ranges&nbsp;=&nbsp;{},</div></div><div class=\"1622\" style=\"display: none;\"><div style=\"display: table-cell;\"></div><div style=\"display: table-cell;\">frame_height&nbsp;=&nbsp;None,</div></div><div class=\"1622\" style=\"display: none;\"><div style=\"display: table-cell;\"></div><div style=\"display: table-cell;\">frame_width&nbsp;=&nbsp;None,</div></div><div class=\"1622\" style=\"display: none;\"><div style=\"display: table-cell;\"></div><div style=\"display: table-cell;\">height&nbsp;=&nbsp;None,</div></div><div class=\"1622\" style=\"display: none;\"><div style=\"display: table-cell;\"></div><div style=\"display: table-cell;\">height_policy&nbsp;=&nbsp;'auto',</div></div><div class=\"1622\" style=\"display: none;\"><div style=\"display: table-cell;\"></div><div style=\"display: table-cell;\">hidpi&nbsp;=&nbsp;True,</div></div><div class=\"1622\" style=\"display: none;\"><div style=\"display: table-cell;\"></div><div style=\"display: table-cell;\">js_event_callbacks&nbsp;=&nbsp;{},</div></div><div class=\"1622\" style=\"display: none;\"><div style=\"display: table-cell;\"></div><div style=\"display: table-cell;\">js_property_callbacks&nbsp;=&nbsp;{},</div></div><div class=\"1622\" style=\"display: none;\"><div style=\"display: table-cell;\"></div><div style=\"display: table-cell;\">left&nbsp;=&nbsp;[LinearAxis(id='1498', ...)],</div></div><div class=\"1622\" style=\"display: none;\"><div style=\"display: table-cell;\"></div><div style=\"display: table-cell;\">lod_factor&nbsp;=&nbsp;10,</div></div><div class=\"1622\" style=\"display: none;\"><div style=\"display: table-cell;\"></div><div style=\"display: table-cell;\">lod_interval&nbsp;=&nbsp;300,</div></div><div class=\"1622\" style=\"display: none;\"><div style=\"display: table-cell;\"></div><div style=\"display: table-cell;\">lod_threshold&nbsp;=&nbsp;2000,</div></div><div class=\"1622\" style=\"display: none;\"><div style=\"display: table-cell;\"></div><div style=\"display: table-cell;\">lod_timeout&nbsp;=&nbsp;500,</div></div><div class=\"1622\" style=\"display: none;\"><div style=\"display: table-cell;\"></div><div style=\"display: table-cell;\">margin&nbsp;=&nbsp;(0, 0, 0, 0),</div></div><div class=\"1622\" style=\"display: none;\"><div style=\"display: table-cell;\"></div><div style=\"display: table-cell;\">match_aspect&nbsp;=&nbsp;False,</div></div><div class=\"1622\" style=\"display: none;\"><div style=\"display: table-cell;\"></div><div style=\"display: table-cell;\">max_height&nbsp;=&nbsp;None,</div></div><div class=\"1622\" style=\"display: none;\"><div style=\"display: table-cell;\"></div><div style=\"display: table-cell;\">max_width&nbsp;=&nbsp;None,</div></div><div class=\"1622\" style=\"display: none;\"><div style=\"display: table-cell;\"></div><div style=\"display: table-cell;\">min_border&nbsp;=&nbsp;5,</div></div><div class=\"1622\" style=\"display: none;\"><div style=\"display: table-cell;\"></div><div style=\"display: table-cell;\">min_border_bottom&nbsp;=&nbsp;None,</div></div><div class=\"1622\" style=\"display: none;\"><div style=\"display: table-cell;\"></div><div style=\"display: table-cell;\">min_border_left&nbsp;=&nbsp;None,</div></div><div class=\"1622\" style=\"display: none;\"><div style=\"display: table-cell;\"></div><div style=\"display: table-cell;\">min_border_right&nbsp;=&nbsp;None,</div></div><div class=\"1622\" style=\"display: none;\"><div style=\"display: table-cell;\"></div><div style=\"display: table-cell;\">min_border_top&nbsp;=&nbsp;None,</div></div><div class=\"1622\" style=\"display: none;\"><div style=\"display: table-cell;\"></div><div style=\"display: table-cell;\">min_height&nbsp;=&nbsp;None,</div></div><div class=\"1622\" style=\"display: none;\"><div style=\"display: table-cell;\"></div><div style=\"display: table-cell;\">min_width&nbsp;=&nbsp;None,</div></div><div class=\"1622\" style=\"display: none;\"><div style=\"display: table-cell;\"></div><div style=\"display: table-cell;\">name&nbsp;=&nbsp;None,</div></div><div class=\"1622\" style=\"display: none;\"><div style=\"display: table-cell;\"></div><div style=\"display: table-cell;\">outline_line_alpha&nbsp;=&nbsp;{'value': 1.0},</div></div><div class=\"1622\" style=\"display: none;\"><div style=\"display: table-cell;\"></div><div style=\"display: table-cell;\">outline_line_cap&nbsp;=&nbsp;'butt',</div></div><div class=\"1622\" style=\"display: none;\"><div style=\"display: table-cell;\"></div><div style=\"display: table-cell;\">outline_line_color&nbsp;=&nbsp;{'value': '#e5e5e5'},</div></div><div class=\"1622\" style=\"display: none;\"><div style=\"display: table-cell;\"></div><div style=\"display: table-cell;\">outline_line_dash&nbsp;=&nbsp;[],</div></div><div class=\"1622\" style=\"display: none;\"><div style=\"display: table-cell;\"></div><div style=\"display: table-cell;\">outline_line_dash_offset&nbsp;=&nbsp;0,</div></div><div class=\"1622\" style=\"display: none;\"><div style=\"display: table-cell;\"></div><div style=\"display: table-cell;\">outline_line_join&nbsp;=&nbsp;'bevel',</div></div><div class=\"1622\" style=\"display: none;\"><div style=\"display: table-cell;\"></div><div style=\"display: table-cell;\">outline_line_width&nbsp;=&nbsp;{'value': 1},</div></div><div class=\"1622\" style=\"display: none;\"><div style=\"display: table-cell;\"></div><div style=\"display: table-cell;\">output_backend&nbsp;=&nbsp;'canvas',</div></div><div class=\"1622\" style=\"display: none;\"><div style=\"display: table-cell;\"></div><div style=\"display: table-cell;\">plot_height&nbsp;=&nbsp;400,</div></div><div class=\"1622\" style=\"display: none;\"><div style=\"display: table-cell;\"></div><div style=\"display: table-cell;\">plot_width&nbsp;=&nbsp;600,</div></div><div class=\"1622\" style=\"display: none;\"><div style=\"display: table-cell;\"></div><div style=\"display: table-cell;\">renderers&nbsp;=&nbsp;[GlyphRenderer(id='1519', ...)],</div></div><div class=\"1622\" style=\"display: none;\"><div style=\"display: table-cell;\"></div><div style=\"display: table-cell;\">reset_policy&nbsp;=&nbsp;'standard',</div></div><div class=\"1622\" style=\"display: none;\"><div style=\"display: table-cell;\"></div><div style=\"display: table-cell;\">right&nbsp;=&nbsp;[],</div></div><div class=\"1622\" style=\"display: none;\"><div style=\"display: table-cell;\"></div><div style=\"display: table-cell;\">sizing_mode&nbsp;=&nbsp;None,</div></div><div class=\"1622\" style=\"display: none;\"><div style=\"display: table-cell;\"></div><div style=\"display: table-cell;\">subscribed_events&nbsp;=&nbsp;[],</div></div><div class=\"1622\" style=\"display: none;\"><div style=\"display: table-cell;\"></div><div style=\"display: table-cell;\">tags&nbsp;=&nbsp;[],</div></div><div class=\"1622\" style=\"display: none;\"><div style=\"display: table-cell;\"></div><div style=\"display: table-cell;\">title&nbsp;=&nbsp;Title(id='1560', ...),</div></div><div class=\"1622\" style=\"display: none;\"><div style=\"display: table-cell;\"></div><div style=\"display: table-cell;\">title_location&nbsp;=&nbsp;'above',</div></div><div class=\"1622\" style=\"display: none;\"><div style=\"display: table-cell;\"></div><div style=\"display: table-cell;\">toolbar&nbsp;=&nbsp;Toolbar(id='1509', ...),</div></div><div class=\"1622\" style=\"display: none;\"><div style=\"display: table-cell;\"></div><div style=\"display: table-cell;\">toolbar_location&nbsp;=&nbsp;'right',</div></div><div class=\"1622\" style=\"display: none;\"><div style=\"display: table-cell;\"></div><div style=\"display: table-cell;\">toolbar_sticky&nbsp;=&nbsp;True,</div></div><div class=\"1622\" style=\"display: none;\"><div style=\"display: table-cell;\"></div><div style=\"display: table-cell;\">visible&nbsp;=&nbsp;True,</div></div><div class=\"1622\" style=\"display: none;\"><div style=\"display: table-cell;\"></div><div style=\"display: table-cell;\">width&nbsp;=&nbsp;None,</div></div><div class=\"1622\" style=\"display: none;\"><div style=\"display: table-cell;\"></div><div style=\"display: table-cell;\">width_policy&nbsp;=&nbsp;'auto',</div></div><div class=\"1622\" style=\"display: none;\"><div style=\"display: table-cell;\"></div><div style=\"display: table-cell;\">x_range&nbsp;=&nbsp;DataRange1d(id='1485', ...),</div></div><div class=\"1622\" style=\"display: none;\"><div style=\"display: table-cell;\"></div><div style=\"display: table-cell;\">x_scale&nbsp;=&nbsp;LinearScale(id='1489', ...),</div></div><div class=\"1622\" style=\"display: none;\"><div style=\"display: table-cell;\"></div><div style=\"display: table-cell;\">y_range&nbsp;=&nbsp;DataRange1d(id='1487', ...),</div></div><div class=\"1622\" style=\"display: none;\"><div style=\"display: table-cell;\"></div><div style=\"display: table-cell;\">y_scale&nbsp;=&nbsp;LinearScale(id='1491', ...))</div></div></div>\n",
              "<script>\n",
              "(function() {\n",
              "  var expanded = false;\n",
              "  var ellipsis = document.getElementById(\"1623\");\n",
              "  ellipsis.addEventListener(\"click\", function() {\n",
              "    var rows = document.getElementsByClassName(\"1622\");\n",
              "    for (var i = 0; i < rows.length; i++) {\n",
              "      var el = rows[i];\n",
              "      el.style.display = expanded ? \"none\" : \"table-row\";\n",
              "    }\n",
              "    ellipsis.innerHTML = expanded ? \"&hellip;)\" : \"&lsaquo;&lsaquo;&lsaquo;\";\n",
              "    expanded = !expanded;\n",
              "  });\n",
              "})();\n",
              "</script>\n"
            ],
            "text/plain": [
              "Figure(id='1484', ...)"
            ]
          },
          "metadata": {
            "tags": []
          },
          "execution_count": 263
        }
      ]
    },
    {
      "cell_type": "code",
      "metadata": {
        "id": "WNvxVnz-Pat2",
        "colab_type": "code",
        "colab": {}
      },
      "source": [
        ""
      ],
      "execution_count": 0,
      "outputs": []
    }
  ]
}